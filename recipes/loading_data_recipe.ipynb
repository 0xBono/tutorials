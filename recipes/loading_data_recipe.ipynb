{
  "cells": [
    {
      "cell_type": "code",
      "execution_count": null,
      "metadata": {
        "collapsed": false
      },
      "outputs": [],
      "source": [
        "%matplotlib inline"
      ]
    },
    {
      "cell_type": "markdown",
      "metadata": {},
      "source": [
        "\nLoading Data in PyTorch\n===================\n\nPyTorch features extensive neural network building blocks with a simple, intuitive, and stable API. PyTorch includes packages to prepare and load common datasets for your model.\n\nIntroduction\n-------------\nAt the heart of PyTorch data loading utility is the torch.utils.data.DataLoader_ class. It represents a Python iterable over a dataset. Libraries in PyTorch offer built-in high-quality datasets for you to use in torch.utils.data.Dataset_. These datasets are currently available in: \n- torchvision_\n- torchaudio_\n- torchtext_\nwith more to come.\n\n\nUsing the Yesno dataset from ``torchaudio.datasets.YESNO``, we will demonstrate how to effectively and efficiently load data from a PyTorch ``Dataset`` into a PyTorch ``DataLoader``. \n\nSetup\n-------\nBefore we begin, we need to install ``torchaudio`` to have access to the dataset::\n\n     pip install torchaudio\n"
      ]
    },
    {
      "cell_type": "markdown",
      "metadata": {},
      "source": [
        "Steps\n-----------------\n1. Import all necessary libraries for loading our data\n2. Access the data in the dataset\n3. Loading the data\n4. Iterate over the data\n5. [Optional] Visualize the data\n\n\n1. Import necessary libraries for loading our data\n^^^^^^^^^^^^^^^^^^^^^^^^^^^^^^^^^^^^^^^^^^^^^^^^^^^^^\nFor this recipe, we will use ``torch`` and ``torchaudio``. Depending on what built-in datasets you use, you can also install and import ``torchvision`` or ``torchtext``.\n\n"
      ]
    },
    {
      "cell_type": "code",
      "execution_count": null,
      "metadata": {
        "collapsed": false
      },
      "outputs": [],
      "source": [
        "import torch\nimport torchaudio"
      ]
    },
    {
      "cell_type": "markdown",
      "metadata": {},
      "source": [
        "2. Access the data in the dataset\n^^^^^^^^^^^^^^^^^^^^^^^^^^^^^^^^^^^^^^^^^^^^^^^^^^^^^\nThe Yesno dataset in ``torchaudio`` features sixty recordings of one individual saying yes or no in Hebrew; with each recording being eight words long ([read more here](https://www.openslr.org/1/)).\n``torchaudio.datasets.YESNO`` creates a dataset for YesNo.\n\n"
      ]
    },
    {
      "cell_type": "code",
      "execution_count": null,
      "metadata": {
        "collapsed": false
      },
      "outputs": [],
      "source": [
        "torchaudio.datasets.YESNO(\n   root,\n   url='http://www.openslr.org/resources/1/waves_yesno.tar.gz',\n   folder_in_archive='waves_yesno',\n   download=False,\n   transform=None,\n   target_transform=None)\n\n# Each item in the dataset is a tuple of the form: (waveform, sample_rate, labels).\n# You must set a ``root`` for the Yesno dataset, which is where the training and testing dataset will exist. the other parameters are optional, with their default values shown. Here is some additional useful info on the other parameters:\n# *   ``download``: If true, downloads the dataset from the internet and puts it in root directory. If dataset is already downloaded, it is not downloaded again.\n# *   ``transform``: Using transforms on your data allows you to take it from its source state and transform it into data that\u2019s joined together, de-normalized, and ready for training. Each library in PyTorch supports a growing list of transformations.\n# *   ``target_transform``: A function/transform that takes in the target and transforms it.\n# Let's access our Yesno data:\n\n\n# A data point in Yesno is a tuple (waveform, sample_rate, labels) where labels \n# is a list of integers with 1 for yes and 0 for no.\nyesno_data_trainset = torchaudio.datasets.YESNO('./', download=True)\n\n# Pick data point number 3 to see an example of the the yesno_data:\nn = 3\nwaveform, sample_rate, labels = yesno_data[n]\nprint(\"Waveform: {}\\nSample rate: {}\\nLabels: {}\".format(waveform, sample_rate, labels))\n\n# When using this data in practice, it is best practice to provision the data into a \"training\" dataset and a \"testing\" dataset. This ensures that you have out-of-sample data to test the performance of your model."
      ]
    },
    {
      "cell_type": "markdown",
      "metadata": {},
      "source": [
        "3 . Loading the data\n^^^^^^^^^^^^^^^^^^^^^^^^^^^^^^^^^^^^^^^^^^^^^^^^^^^^^\nNow that we have access to the dataset, we must pass it through ``torch.utils.data.DataLoader``. The ``DataLoader`` combines the dataset and a sampler, returning an iterable over the dataset.\n\n"
      ]
    },
    {
      "cell_type": "code",
      "execution_count": null,
      "metadata": {
        "collapsed": false
      },
      "outputs": [],
      "source": [
        "data_loader = torch.utils.data.DataLoader(yesno_data,\n                                          batch_size=1,\n                                          shuffle=True)"
      ]
    },
    {
      "cell_type": "markdown",
      "metadata": {},
      "source": [
        "4. Iterate over the data\n^^^^^^^^^^^^^^^^^^^^^^^^^^^^^^^^^^^^^^^^^^^^^^^^^^^^^\nOur data is now iterable using the ``data_loader``. This will be necessary when we begin training our model! You will notice that now each data entry in the ``data_loader`` object is converted to a tensor containing tensors representing our waveform, sample rate, and labels.\n\n"
      ]
    },
    {
      "cell_type": "code",
      "execution_count": null,
      "metadata": {
        "collapsed": false
      },
      "outputs": [],
      "source": [
        "for data in data_loader:\n  print(\"Data: \", data)\n  print(\"Waveform: {}\\nSample rate: {}\\nLabels: {}\".format(data[0], data[1], data[2]))\n  break"
      ]
    },
    {
      "cell_type": "markdown",
      "metadata": {},
      "source": [
        "5. [Optional] Visualize the data\n^^^^^^^^^^^^^^^^^^^^^^^^^^^^^^^^^^^^^^^^^^^^^^^^^^^^^\nYou can optionally visualize your data to further understand the output from your ``DataLoader``.\n\n"
      ]
    },
    {
      "cell_type": "code",
      "execution_count": null,
      "metadata": {
        "collapsed": false
      },
      "outputs": [],
      "source": [
        "import matplotlib.pyplot as plt\n\nprint(data[0][0].numpy())\n\nplt.figure()\nplt.plot(waveform.t().numpy())"
      ]
    },
    {
      "cell_type": "markdown",
      "metadata": {},
      "source": [
        "Congratulations! You have successfully loaded data in PyTorch.\nLearn More\n----------------------------\nTake a look at these other recipes to continue your learning:\n*   TBD\n*   TBD\n\n"
      ]
    }
  ],
  "metadata": {
    "kernelspec": {
      "display_name": "Python 3",
      "language": "python",
      "name": "python3"
    },
    "language_info": {
      "codemirror_mode": {
        "name": "ipython",
        "version": 3
      },
      "file_extension": ".py",
      "mimetype": "text/x-python",
      "name": "python",
      "nbconvert_exporter": "python",
      "pygments_lexer": "ipython3",
      "version": "3.7.4"
    }
  },
  "nbformat": 4,
  "nbformat_minor": 0
}