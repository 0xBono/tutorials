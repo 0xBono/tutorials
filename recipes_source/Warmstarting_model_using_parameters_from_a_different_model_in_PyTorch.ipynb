{
  "nbformat": 4,
  "nbformat_minor": 0,
  "metadata": {
    "colab": {
      "name": " Warmstarting model using parameters from a different model in PyTorch.ipynb",
      "provenance": [],
      "collapsed_sections": []
    },
    "kernelspec": {
      "name": "python3",
      "display_name": "Python 3"
    }
  },
  "cells": [
    {
      "cell_type": "markdown",
      "metadata": {
        "id": "2v8DPv5AvVPK",
        "colab_type": "text"
      },
      "source": [
        "Warmstarting model using parameters from a different model in PyTorch\n",
        "=======================\n",
        "Partially loading a model or loading a partial model are common scenarios when transfer learning or training a new complex model. Leveraging trained parameters, even if only a few are usable, will help to warmstart the training process and hopefully help your model converge much faster than training from scratch.\n",
        "\n",
        "Introduction\n",
        "---\n",
        "\n",
        "Whether you are loading from a partial ``state_dict``, which is missing some keys, or loading a ``state_dict`` with more keys than the model that you are loading into, you can set the strict argument to ``False`` in the ``load_state_dict()`` function to ignore non-matching keys.\n",
        "\n",
        "In this recipe, we will experiment with warmstarting a model using parameters of a different model.\n",
        "\n",
        "Setup\n",
        "---\n",
        "Before we begin, we need to install ``torch`` if it isn't already available.\n"
      ]
    },
    {
      "cell_type": "code",
      "metadata": {
        "id": "pawUEFRW3r79",
        "colab_type": "code",
        "outputId": "f7ecdeae-dd57-4679-90ed-45792d154b67",
        "colab": {
          "base_uri": "https://localhost:8080/",
          "height": 34
        }
      },
      "source": [
        "pip install torch"
      ],
      "execution_count": 0,
      "outputs": [
        {
          "output_type": "stream",
          "text": [
            "Requirement already satisfied: torch in /usr/local/lib/python3.6/dist-packages (1.4.0)\n"
          ],
          "name": "stdout"
        }
      ]
    },
    {
      "cell_type": "markdown",
      "metadata": {
        "id": "a0GO__M135BZ",
        "colab_type": "text"
      },
      "source": [
        "Steps\n",
        "-----------------\n",
        "1. Import all necessary libraries for loading our data\n",
        "2. Define and intialize the neural network A and B\n",
        "4. Save model A\n",
        "5. Load into model B\n",
        "\n",
        "### **1) Import necessary libraries for loading our data**\n",
        "For this recipe, we will use ``torch`` and its subsidiaries ``torch.nn`` and ``torch.optim``.\n"
      ]
    },
    {
      "cell_type": "code",
      "metadata": {
        "id": "mLG4lIjO4KrX",
        "colab_type": "code",
        "colab": {}
      },
      "source": [
        "import torch\n",
        "import torch.nn as nn\n",
        "import torch.optim as optim"
      ],
      "execution_count": 0,
      "outputs": []
    },
    {
      "cell_type": "markdown",
      "metadata": {
        "id": "TV3wDMm24M9j",
        "colab_type": "text"
      },
      "source": [
        "### **2) Define and intialize the neural network A and B**\n",
        "For sake of example, we will create a neural network for training images. To learn more see the Defining a Neural Network recipe. We will create two neural networks for sake of loading one parameter of type A into type B."
      ]
    },
    {
      "cell_type": "code",
      "metadata": {
        "id": "jTnltihl4QUM",
        "colab_type": "code",
        "colab": {}
      },
      "source": [
        "class NetA(nn.Module):\n",
        "    def __init__(self):\n",
        "        super(NetA, self).__init__()\n",
        "        self.conv1 = nn.Conv2d(3, 6, 5)\n",
        "        self.pool = nn.MaxPool2d(2, 2)\n",
        "        self.conv2 = nn.Conv2d(6, 16, 5)\n",
        "        self.fc1 = nn.Linear(16 * 5 * 5, 120)\n",
        "        self.fc2 = nn.Linear(120, 84)\n",
        "        self.fc3 = nn.Linear(84, 10)\n",
        "\n",
        "    def forward(self, x):\n",
        "        x = self.pool(F.relu(self.conv1(x)))\n",
        "        x = self.pool(F.relu(self.conv2(x)))\n",
        "        x = x.view(-1, 16 * 5 * 5)\n",
        "        x = F.relu(self.fc1(x))\n",
        "        x = F.relu(self.fc2(x))\n",
        "        x = self.fc3(x)\n",
        "        return x\n",
        "\n",
        "netA = NetA()\n",
        "\n",
        "class NetB(nn.Module):\n",
        "    def __init__(self):\n",
        "        super(NetB, self).__init__()\n",
        "        self.conv1 = nn.Conv2d(3, 6, 5)\n",
        "        self.pool = nn.MaxPool2d(2, 2)\n",
        "        self.conv2 = nn.Conv2d(6, 16, 5)\n",
        "        self.fc1 = nn.Linear(16 * 5 * 5, 120)\n",
        "        self.fc2 = nn.Linear(120, 84)\n",
        "        self.fc3 = nn.Linear(84, 10)\n",
        "\n",
        "    def forward(self, x):\n",
        "        x = self.pool(F.relu(self.conv1(x)))\n",
        "        x = self.pool(F.relu(self.conv2(x)))\n",
        "        x = x.view(-1, 16 * 5 * 5)\n",
        "        x = F.relu(self.fc1(x))\n",
        "        x = F.relu(self.fc2(x))\n",
        "        x = self.fc3(x)\n",
        "        return x\n",
        "\n",
        "netB = NetB()"
      ],
      "execution_count": 0,
      "outputs": []
    },
    {
      "cell_type": "markdown",
      "metadata": {
        "id": "b01lwShx-E0x",
        "colab_type": "text"
      },
      "source": [
        "### **3) Save model A**"
      ]
    },
    {
      "cell_type": "code",
      "metadata": {
        "id": "Q-ZLcgTCeLDb",
        "colab_type": "code",
        "colab": {}
      },
      "source": [
        "# Specify a path to save to\n",
        "PATH = \"model.pt\"\n",
        "\n",
        "torch.save(netA.state_dict(), PATH)"
      ],
      "execution_count": 0,
      "outputs": []
    },
    {
      "cell_type": "markdown",
      "metadata": {
        "id": "5tnhOT5GgIhl",
        "colab_type": "text"
      },
      "source": [
        "### **4) Load into model B**\n",
        "If you want to load parameters from one layer to another, but some keys do not match, simply change the name of the parameter keys in the state_dict that you are loading to match the keys in the model that you are loading into."
      ]
    },
    {
      "cell_type": "code",
      "metadata": {
        "id": "7Gi_nyG9geYn",
        "colab_type": "code",
        "outputId": "5aa4f55e-9694-4170-a0f8-26e672bb8b9f",
        "colab": {
          "base_uri": "https://localhost:8080/",
          "height": 34
        }
      },
      "source": [
        "netB.load_state_dict(torch.load(PATH), strict=False)"
      ],
      "execution_count": 5,
      "outputs": [
        {
          "output_type": "execute_result",
          "data": {
            "text/plain": [
              "<All keys matched successfully>"
            ]
          },
          "metadata": {
            "tags": []
          },
          "execution_count": 5
        }
      ]
    },
    {
      "cell_type": "markdown",
      "metadata": {
        "id": "1Djk3IfQ4Rup",
        "colab_type": "text"
      },
      "source": [
        "You can see that all keys matched successfully!\n",
        "\n",
        "Congratulations! You have successfully warmstarted a model using parameters from a different model in PyTorch.\n",
        "\n",
        "Learn More\n",
        "----------------------------\n",
        "Take a look at these other recipes to continue your learning:\n",
        "\n",
        "*   TBD\n",
        "*   TBD\n",
        "\n"
      ]
    }
  ]
}